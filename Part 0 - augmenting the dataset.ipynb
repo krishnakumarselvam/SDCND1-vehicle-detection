{
 "cells": [
  {
   "cell_type": "code",
   "execution_count": 1,
   "metadata": {
    "collapsed": true
   },
   "outputs": [],
   "source": [
    "import matplotlib.image as mpimg\n",
    "import matplotlib.pyplot as plt\n",
    "import numpy as np\n",
    "import cv2\n",
    "import matplotlib\n",
    "\n",
    "import glob\n",
    "import time\n",
    "from sklearn.svm import LinearSVC\n",
    "from sklearn.preprocessing import StandardScaler\n",
    "from skimage.feature import hog\n",
    "from sklearn.externals import joblib\n",
    "import json\n",
    "from scipy.ndimage.measurements import label\n",
    "%matplotlib inline\n",
    "# Import everything needed to edit/save/watch video clips\n",
    "from moviepy.editor import VideoFileClip\n",
    "from IPython.display import HTML"
   ]
  },
  {
   "cell_type": "code",
   "execution_count": 2,
   "metadata": {
    "collapsed": true
   },
   "outputs": [],
   "source": [
    "s = 64"
   ]
  },
  {
   "cell_type": "code",
   "execution_count": null,
   "metadata": {
    "collapsed": true
   },
   "outputs": [],
   "source": []
  },
  {
   "cell_type": "code",
   "execution_count": 3,
   "metadata": {
    "collapsed": true
   },
   "outputs": [],
   "source": [
    "# From the lower box\n",
    "def crop_img(img, s, x_min=0, x_max=800):\n",
    "    y_start = np.random.randint(400,800-s)\n",
    "    y_end = y_start + s\n",
    "    x_start = np.random.randint(x_min,x_max-s)\n",
    "    x_end = x_start + s\n",
    "    return img[y_start:y_end, x_start:x_end, :]"
   ]
  },
  {
   "cell_type": "code",
   "execution_count": 4,
   "metadata": {
    "scrolled": true
   },
   "outputs": [
    {
     "data": {
      "text/html": [
       "\n",
       "<video width=\"640\" height=\"360\" controls>\n",
       "  <source src=\"input_videos/project_video.mp4\">\n",
       "</video>\n"
      ],
      "text/plain": [
       "<IPython.core.display.HTML object>"
      ]
     },
     "execution_count": 4,
     "metadata": {},
     "output_type": "execute_result"
    }
   ],
   "source": [
    "HTML(\"\"\"\n",
    "<video width=\"640\" height=\"360\" controls>\n",
    "  <source src=\"{0}\">\n",
    "</video>\n",
    "\"\"\".format('input_videos/project_video.mp4'))"
   ]
  },
  {
   "cell_type": "code",
   "execution_count": 5,
   "metadata": {
    "collapsed": true
   },
   "outputs": [],
   "source": [
    "full_video = VideoFileClip(\"input_videos/project_video.mp4\")\n",
    "clip1 = full_video.subclip(5,10)\n",
    "clip2 = full_video.subclip(20,25)\n",
    "clip3 = full_video.subclip(25,30)\n",
    "clip4 = full_video.subclip(37,42)"
   ]
  },
  {
   "cell_type": "code",
   "execution_count": 35,
   "metadata": {
    "collapsed": true
   },
   "outputs": [],
   "source": [
    "def get_data(vid, n=500, s=64):\n",
    "    images = []\n",
    "    for i in range(int(n/20)):\n",
    "        frame_num = np.random.randint(0, vid.fps * vid.duration)\n",
    "        img = vid.get_frame(frame_num)\n",
    "        for k in range(20):\n",
    "            images.append(crop_img(img, s))\n",
    "    return images"
   ]
  },
  {
   "cell_type": "code",
   "execution_count": 36,
   "metadata": {
    "collapsed": true
   },
   "outputs": [],
   "source": [
    "version = np.random.randint(10000)"
   ]
  },
  {
   "cell_type": "code",
   "execution_count": null,
   "metadata": {},
   "outputs": [],
   "source": []
  },
  {
   "cell_type": "code",
   "execution_count": 37,
   "metadata": {},
   "outputs": [],
   "source": [
    "import scipy\n",
    "images = get_data(clip1)\n",
    "len(images)\n",
    "for i in range(len(images)):\n",
    "    if images[i].shape == (64, 64, 3):\n",
    "        filename = 'data/non-vehicles/augmented/clip1_v{}_{}.png'.format(version,i)\n",
    "        scipy.misc.toimage(images[i]).save(filename)"
   ]
  },
  {
   "cell_type": "code",
   "execution_count": 38,
   "metadata": {
    "collapsed": true
   },
   "outputs": [],
   "source": [
    "import scipy\n",
    "images = get_data(clip2)\n",
    "len(images)\n",
    "for i in range(len(images)):\n",
    "    if images[i].shape == (64, 64, 3):\n",
    "        filename = 'data/non-vehicles/augmented/clip2_v{}_{}.png'.format(version,i)\n",
    "        scipy.misc.toimage(images[i]).save(filename)"
   ]
  },
  {
   "cell_type": "code",
   "execution_count": 39,
   "metadata": {
    "collapsed": true
   },
   "outputs": [],
   "source": [
    "import scipy\n",
    "images = get_data(clip3)\n",
    "len(images)\n",
    "for i in range(len(images)):\n",
    "    if images[i].shape == (64, 64, 3):\n",
    "        filename = 'data/non-vehicles/augmented/clip3_v{}_{}.png'.format(version,i)\n",
    "        scipy.misc.toimage(images[i]).save(filename)"
   ]
  },
  {
   "cell_type": "code",
   "execution_count": 40,
   "metadata": {
    "collapsed": true
   },
   "outputs": [],
   "source": [
    "import scipy\n",
    "images = get_data(clip4)\n",
    "len(images)\n",
    "for i in range(len(images)):\n",
    "    if images[i].shape == (64, 64, 3):\n",
    "        filename = 'data/non-vehicles/augmented/clip4_v{}_{}.png'.format(version,i)\n",
    "        scipy.misc.toimage(images[i]).save(filename)"
   ]
  },
  {
   "cell_type": "code",
   "execution_count": null,
   "metadata": {
    "collapsed": true
   },
   "outputs": [],
   "source": []
  },
  {
   "cell_type": "code",
   "execution_count": null,
   "metadata": {
    "collapsed": true
   },
   "outputs": [],
   "source": []
  },
  {
   "cell_type": "code",
   "execution_count": null,
   "metadata": {
    "collapsed": true
   },
   "outputs": [],
   "source": []
  }
 ],
 "metadata": {
  "kernelspec": {
   "display_name": "Python 3",
   "language": "python",
   "name": "python3"
  },
  "language_info": {
   "codemirror_mode": {
    "name": "ipython",
    "version": 3
   },
   "file_extension": ".py",
   "mimetype": "text/x-python",
   "name": "python",
   "nbconvert_exporter": "python",
   "pygments_lexer": "ipython3",
   "version": "3.5.2"
  },
  "widgets": {
   "state": {},
   "version": "1.1.2"
  }
 },
 "nbformat": 4,
 "nbformat_minor": 2
}
