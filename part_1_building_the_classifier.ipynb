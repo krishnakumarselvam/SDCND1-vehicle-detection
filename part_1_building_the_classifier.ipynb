{
 "cells": [
  {
   "cell_type": "code",
   "execution_count": 37,
   "metadata": {
    "collapsed": true
   },
   "outputs": [],
   "source": [
    "import matplotlib.image as mpimg\n",
    "import matplotlib.pyplot as plt\n",
    "import numpy as np\n",
    "import cv2\n",
    "import glob\n",
    "import time\n",
    "from sklearn.svm import LinearSVC\n",
    "from sklearn.preprocessing import StandardScaler\n",
    "from skimage.feature import hog\n",
    "from sklearn.externals import joblib\n",
    "import json\n",
    "# NOTE: the next import is only valid for scikit-learn version <= 0.17\n",
    "# for scikit-learn >= 0.18 use:\n",
    "# from sklearn.model_selection import train_test_split\n",
    "from sklearn.model_selection import train_test_split\n",
    "\n",
    "vehicle_folders = ['GTI_Far', 'GTI_Left', 'GTI_MiddleClose', 'GTI_Right', 'KITTI_extracted']\n",
    "non_vehicle_folders = ['Extras', 'GTI', 'augmented']\n",
    "#non_vehicle_folders = ['augmented']\n",
    "is_car = []\n",
    "cars = []\n",
    "notcars = []\n",
    "for f in vehicle_folders:\n",
    "    cars = cars +  glob.glob('data/vehicles/{}/*.png'.format(f))\n",
    "for f in non_vehicle_folders:\n",
    "    notcars = notcars +  glob.glob('data/non-vehicles/{}/*.png'.format(f))"
   ]
  },
  {
   "cell_type": "code",
   "execution_count": 38,
   "metadata": {
    "collapsed": true
   },
   "outputs": [],
   "source": [
    "valid_notcars = []"
   ]
  },
  {
   "cell_type": "code",
   "execution_count": 39,
   "metadata": {
    "collapsed": true
   },
   "outputs": [],
   "source": [
    "for file in notcars:\n",
    "    try:\n",
    "        img = mpimg.imread(file)\n",
    "        if img.shape == (64, 64, 3):\n",
    "            valid_notcars.append(file)\n",
    "    except:\n",
    "        pass"
   ]
  },
  {
   "cell_type": "code",
   "execution_count": 40,
   "metadata": {
    "collapsed": true
   },
   "outputs": [],
   "source": [
    "img = mpimg.imread(file)"
   ]
  },
  {
   "cell_type": "code",
   "execution_count": null,
   "metadata": {
    "collapsed": true
   },
   "outputs": [],
   "source": []
  },
  {
   "cell_type": "code",
   "execution_count": 41,
   "metadata": {},
   "outputs": [
    {
     "data": {
      "text/plain": [
       "(64, 64, 3)"
      ]
     },
     "execution_count": 41,
     "metadata": {},
     "output_type": "execute_result"
    }
   ],
   "source": [
    "img.shape"
   ]
  },
  {
   "cell_type": "code",
   "execution_count": null,
   "metadata": {
    "collapsed": true
   },
   "outputs": [],
   "source": []
  },
  {
   "cell_type": "code",
   "execution_count": 42,
   "metadata": {},
   "outputs": [
    {
     "data": {
      "text/plain": [
       "9430"
      ]
     },
     "execution_count": 42,
     "metadata": {},
     "output_type": "execute_result"
    }
   ],
   "source": [
    "len(valid_notcars)"
   ]
  },
  {
   "cell_type": "code",
   "execution_count": 43,
   "metadata": {},
   "outputs": [
    {
     "data": {
      "text/plain": [
       "9430"
      ]
     },
     "execution_count": 43,
     "metadata": {},
     "output_type": "execute_result"
    }
   ],
   "source": [
    "len(notcars)"
   ]
  },
  {
   "cell_type": "code",
   "execution_count": 44,
   "metadata": {},
   "outputs": [
    {
     "data": {
      "text/plain": [
       "8792"
      ]
     },
     "execution_count": 44,
     "metadata": {},
     "output_type": "execute_result"
    }
   ],
   "source": [
    "len(cars)"
   ]
  },
  {
   "cell_type": "code",
   "execution_count": 45,
   "metadata": {},
   "outputs": [
    {
     "data": {
      "text/plain": [
       "9430"
      ]
     },
     "execution_count": 45,
     "metadata": {},
     "output_type": "execute_result"
    }
   ],
   "source": [
    "len(notcars)"
   ]
  },
  {
   "cell_type": "code",
   "execution_count": 46,
   "metadata": {
    "collapsed": true
   },
   "outputs": [],
   "source": [
    "# Get the extract features function\n",
    "filename = 'lesson_functions.py'\n",
    "exec(compile(open(filename, \"rb\").read(), filename, 'exec'))\n",
    "%matplotlib inline"
   ]
  },
  {
   "cell_type": "markdown",
   "metadata": {},
   "source": [
    "# Modeling approach"
   ]
  },
  {
   "cell_type": "markdown",
   "metadata": {},
   "source": [
    "It looks like there are different combinations of models one could try out for this exercise. For example, with / without HOG features, different color spaces etc.  I am going to tune a bunch of models first, and then try to predict whether an image contains a car or not as an ensemble of these different models."
   ]
  },
  {
   "cell_type": "code",
   "execution_count": 47,
   "metadata": {
    "collapsed": true
   },
   "outputs": [],
   "source": [
    "options = [\n",
    "    {'color_space': 'HLS', 'hog_feat' : True, 'hog_channel' : 'ALL', 'hist_feat' : True},\n",
    "    {'color_space': 'HSV', 'hog_feat' : True, 'hog_channel' : 'ALL', 'hist_feat' : True},\n",
    "    {'color_space': 'HSV', 'hog_feat' : True, 'hog_channel': 'ALL', 'hist_feat' : False},\n",
    "    {'color_space': 'YUV', 'hog_feat' : True, 'hog_channel': 'ALL', 'hist_feat' : False},\n",
    "]\n",
    "\n",
    "static_options = {\n",
    "    'orient': 9,\n",
    "    'spatial_size': (16, 16),\n",
    "    'hist_bins': 16,\n",
    "    'hist_feat': True,\n",
    "    'spatial_feat': True,\n",
    "    'pix_per_cell': 8, \n",
    "    'cell_per_block': 2}"
   ]
  },
  {
   "cell_type": "code",
   "execution_count": 49,
   "metadata": {},
   "outputs": [
    {
     "data": {
      "text/plain": [
       "[{'color_space': 'HLS',\n",
       "  'hist_feat': True,\n",
       "  'hog_channel': 'ALL',\n",
       "  'hog_feat': True}]"
      ]
     },
     "execution_count": 49,
     "metadata": {},
     "output_type": "execute_result"
    }
   ],
   "source": [
    "options"
   ]
  },
  {
   "cell_type": "code",
   "execution_count": 50,
   "metadata": {
    "scrolled": true
   },
   "outputs": [
    {
     "name": "stdout",
     "output_type": "stream",
     "text": [
      "Automatic pdb calling has been turned OFF\n"
     ]
    },
    {
     "name": "stderr",
     "output_type": "stream",
     "text": [
      "/Users/krishnakumarselvam/miniconda3/envs/carnd-term1/lib/python3.5/site-packages/skimage/feature/_hog.py:119: skimage_deprecation: Default value of `block_norm`==`L1` is deprecated and will be changed to `L2-Hys` in v0.15\n",
      "  'be changed to `L2-Hys` in v0.15', skimage_deprecation)\n"
     ]
    },
    {
     "name": "stdout",
     "output_type": "stream",
     "text": [
      "--------------------\n",
      "{'color_space': 'HLS', 'orient': 9, 'spatial_feat': True, 'version': 101, 'hog_feat': True, 'hog_channel': 'ALL', 'cell_per_block': 2, 'hist_bins': 16, 'spatial_size': (16, 16), 'pix_per_cell': 8, 'hist_feat': True}\n",
      "Model version 101\n",
      "Feature vector length: 6108\n",
      "184.16 Seconds to train SVC...\n",
      "Test Accuracy of SVC =  0.9877\n"
     ]
    }
   ],
   "source": [
    "%pdb off\n",
    "import copy\n",
    "model_configurations = []\n",
    "model_number = 101\n",
    "for option in options:\n",
    "    #try:\n",
    "    t=time.time()\n",
    "    model_config = copy.deepcopy(option)\n",
    "    model_config['version'] = model_number\n",
    "    model_config.update(static_options)\n",
    "    model_configurations.append(model_config)\n",
    "    notcar_features = extract_features(notcars, **model_config)\n",
    "    car_features = extract_features(cars, **model_config)\n",
    "    X = np.vstack((car_features, notcar_features)).astype(np.float64)                        \n",
    "    # Fit a per-column scaler\n",
    "    X_scaler = StandardScaler().fit(X)\n",
    "    # Apply the scaler to X\n",
    "    scaled_X = X_scaler.transform(X)\n",
    "    # Define the labels vector\n",
    "    y = np.hstack((np.ones(len(car_features)), np.zeros(len(notcar_features))))\n",
    "    # Split up data into randomized training and test sets\n",
    "    rand_state = np.random.randint(0, 100)\n",
    "    X_train, X_test, y_train, y_test = train_test_split(\n",
    "        scaled_X, y, test_size=0.2, random_state=rand_state)\n",
    "    print('-' * 20)\n",
    "    print(model_config)\n",
    "    print('Model version', model_number)\n",
    "    print('Feature vector length:', len(X_train[0]))\n",
    "    # Use a linear SVC \n",
    "    svc = LinearSVC()\n",
    "    # Check the training time for the SVC\n",
    "    svc.fit(X_train, y_train)\n",
    "    t2 = time.time()\n",
    "    print(round(t2-t, 2), 'Seconds to train SVC...')\n",
    "    # Check the score of the SVC\n",
    "    test_accuracy = round(svc.score(X_test, y_test), 4)\n",
    "    print('Test Accuracy of SVC = ', test_accuracy)\n",
    "    model_config['test_accuracy'] = test_accuracy\n",
    "    # Check the prediction time for a single sample\n",
    "    t=time.time()\n",
    "    model_configurations.append(model_config)\n",
    "    joblib.dump(svc, 'models/model_{}.pkl'.format(model_number))\n",
    "    joblib.dump(X_scaler, 'models/X_scaler_{}.pkl'.format(model_number))\n",
    "    with open('models/model_config_{}.json'.format(model_number), 'w') as f:\n",
    "        json.dump(model_config, f)\n",
    "    #except Exception:\n",
    "    #    pass\n",
    "    model_number = model_number + 1"
   ]
  },
  {
   "cell_type": "code",
   "execution_count": null,
   "metadata": {
    "collapsed": true
   },
   "outputs": [],
   "source": []
  },
  {
   "cell_type": "code",
   "execution_count": null,
   "metadata": {
    "collapsed": true
   },
   "outputs": [],
   "source": []
  }
 ],
 "metadata": {
  "kernelspec": {
   "display_name": "Python 3",
   "language": "python",
   "name": "python3"
  },
  "language_info": {
   "codemirror_mode": {
    "name": "ipython",
    "version": 3
   },
   "file_extension": ".py",
   "mimetype": "text/x-python",
   "name": "python",
   "nbconvert_exporter": "python",
   "pygments_lexer": "ipython3",
   "version": "3.5.2"
  },
  "widgets": {
   "state": {},
   "version": "1.1.2"
  }
 },
 "nbformat": 4,
 "nbformat_minor": 2
}
